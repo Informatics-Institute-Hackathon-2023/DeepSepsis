{
 "cells": [
  {
   "cell_type": "code",
   "execution_count": 1,
   "id": "c254fff8",
   "metadata": {},
   "outputs": [],
   "source": [
    "import pandas as pd\n",
    "import numpy as np\n",
    "import random\n",
    "from sklearn.preprocessing import StandardScaler\n",
    "from sklearn.impute import SimpleImputer\n",
    "from keras.callbacks import EarlyStopping\n",
    "from sklearn.metrics import classification_report, confusion_matrix, precision_recall_curve\n",
    "from tensorflow.keras.models import Sequential\n",
    "from tensorflow.keras.layers import Dense, LeakyReLU\n",
    "from imblearn.over_sampling import SMOTE\n",
    "import os\n",
    "os.environ['NUMEXPR_MAX_THREADS'] = '16'\n",
    "from matplotlib import pyplot as plt\n",
    "import pickle\n",
    "from tensorflow.keras import regularizers"
   ]
  },
  {
   "cell_type": "code",
   "execution_count": 2,
   "id": "4d6f49e6",
   "metadata": {},
   "outputs": [],
   "source": [
    "data = pd.read_csv(\"Dataset.csv\")"
   ]
  },
  {
   "cell_type": "code",
   "execution_count": 3,
   "id": "49500e62",
   "metadata": {},
   "outputs": [
    {
     "data": {
      "text/html": [
       "<div>\n",
       "<style scoped>\n",
       "    .dataframe tbody tr th:only-of-type {\n",
       "        vertical-align: middle;\n",
       "    }\n",
       "\n",
       "    .dataframe tbody tr th {\n",
       "        vertical-align: top;\n",
       "    }\n",
       "\n",
       "    .dataframe thead th {\n",
       "        text-align: right;\n",
       "    }\n",
       "</style>\n",
       "<table border=\"1\" class=\"dataframe\">\n",
       "  <thead>\n",
       "    <tr style=\"text-align: right;\">\n",
       "      <th></th>\n",
       "      <th>Unnamed: 0</th>\n",
       "      <th>Hour</th>\n",
       "      <th>HR</th>\n",
       "      <th>O2Sat</th>\n",
       "      <th>Temp</th>\n",
       "      <th>SBP</th>\n",
       "      <th>MAP</th>\n",
       "      <th>DBP</th>\n",
       "      <th>Resp</th>\n",
       "      <th>EtCO2</th>\n",
       "      <th>...</th>\n",
       "      <th>Fibrinogen</th>\n",
       "      <th>Platelets</th>\n",
       "      <th>Age</th>\n",
       "      <th>Gender</th>\n",
       "      <th>Unit1</th>\n",
       "      <th>Unit2</th>\n",
       "      <th>HospAdmTime</th>\n",
       "      <th>ICULOS</th>\n",
       "      <th>SepsisLabel</th>\n",
       "      <th>Patient_ID</th>\n",
       "    </tr>\n",
       "  </thead>\n",
       "  <tbody>\n",
       "    <tr>\n",
       "      <th>0</th>\n",
       "      <td>0</td>\n",
       "      <td>0</td>\n",
       "      <td>NaN</td>\n",
       "      <td>NaN</td>\n",
       "      <td>NaN</td>\n",
       "      <td>NaN</td>\n",
       "      <td>NaN</td>\n",
       "      <td>NaN</td>\n",
       "      <td>NaN</td>\n",
       "      <td>NaN</td>\n",
       "      <td>...</td>\n",
       "      <td>NaN</td>\n",
       "      <td>NaN</td>\n",
       "      <td>68.54</td>\n",
       "      <td>0</td>\n",
       "      <td>NaN</td>\n",
       "      <td>NaN</td>\n",
       "      <td>-0.02</td>\n",
       "      <td>1</td>\n",
       "      <td>0</td>\n",
       "      <td>17072</td>\n",
       "    </tr>\n",
       "    <tr>\n",
       "      <th>1</th>\n",
       "      <td>1</td>\n",
       "      <td>1</td>\n",
       "      <td>65.0</td>\n",
       "      <td>100.0</td>\n",
       "      <td>NaN</td>\n",
       "      <td>NaN</td>\n",
       "      <td>72.0</td>\n",
       "      <td>NaN</td>\n",
       "      <td>16.5</td>\n",
       "      <td>NaN</td>\n",
       "      <td>...</td>\n",
       "      <td>NaN</td>\n",
       "      <td>NaN</td>\n",
       "      <td>68.54</td>\n",
       "      <td>0</td>\n",
       "      <td>NaN</td>\n",
       "      <td>NaN</td>\n",
       "      <td>-0.02</td>\n",
       "      <td>2</td>\n",
       "      <td>0</td>\n",
       "      <td>17072</td>\n",
       "    </tr>\n",
       "    <tr>\n",
       "      <th>2</th>\n",
       "      <td>2</td>\n",
       "      <td>2</td>\n",
       "      <td>78.0</td>\n",
       "      <td>100.0</td>\n",
       "      <td>NaN</td>\n",
       "      <td>NaN</td>\n",
       "      <td>42.5</td>\n",
       "      <td>NaN</td>\n",
       "      <td>NaN</td>\n",
       "      <td>NaN</td>\n",
       "      <td>...</td>\n",
       "      <td>NaN</td>\n",
       "      <td>NaN</td>\n",
       "      <td>68.54</td>\n",
       "      <td>0</td>\n",
       "      <td>NaN</td>\n",
       "      <td>NaN</td>\n",
       "      <td>-0.02</td>\n",
       "      <td>3</td>\n",
       "      <td>0</td>\n",
       "      <td>17072</td>\n",
       "    </tr>\n",
       "    <tr>\n",
       "      <th>3</th>\n",
       "      <td>3</td>\n",
       "      <td>3</td>\n",
       "      <td>73.0</td>\n",
       "      <td>100.0</td>\n",
       "      <td>NaN</td>\n",
       "      <td>NaN</td>\n",
       "      <td>NaN</td>\n",
       "      <td>NaN</td>\n",
       "      <td>17.0</td>\n",
       "      <td>NaN</td>\n",
       "      <td>...</td>\n",
       "      <td>NaN</td>\n",
       "      <td>NaN</td>\n",
       "      <td>68.54</td>\n",
       "      <td>0</td>\n",
       "      <td>NaN</td>\n",
       "      <td>NaN</td>\n",
       "      <td>-0.02</td>\n",
       "      <td>4</td>\n",
       "      <td>0</td>\n",
       "      <td>17072</td>\n",
       "    </tr>\n",
       "    <tr>\n",
       "      <th>4</th>\n",
       "      <td>4</td>\n",
       "      <td>4</td>\n",
       "      <td>70.0</td>\n",
       "      <td>100.0</td>\n",
       "      <td>NaN</td>\n",
       "      <td>129.0</td>\n",
       "      <td>74.0</td>\n",
       "      <td>69.0</td>\n",
       "      <td>14.0</td>\n",
       "      <td>NaN</td>\n",
       "      <td>...</td>\n",
       "      <td>NaN</td>\n",
       "      <td>330.0</td>\n",
       "      <td>68.54</td>\n",
       "      <td>0</td>\n",
       "      <td>NaN</td>\n",
       "      <td>NaN</td>\n",
       "      <td>-0.02</td>\n",
       "      <td>5</td>\n",
       "      <td>0</td>\n",
       "      <td>17072</td>\n",
       "    </tr>\n",
       "    <tr>\n",
       "      <th>...</th>\n",
       "      <td>...</td>\n",
       "      <td>...</td>\n",
       "      <td>...</td>\n",
       "      <td>...</td>\n",
       "      <td>...</td>\n",
       "      <td>...</td>\n",
       "      <td>...</td>\n",
       "      <td>...</td>\n",
       "      <td>...</td>\n",
       "      <td>...</td>\n",
       "      <td>...</td>\n",
       "      <td>...</td>\n",
       "      <td>...</td>\n",
       "      <td>...</td>\n",
       "      <td>...</td>\n",
       "      <td>...</td>\n",
       "      <td>...</td>\n",
       "      <td>...</td>\n",
       "      <td>...</td>\n",
       "      <td>...</td>\n",
       "      <td>...</td>\n",
       "    </tr>\n",
       "    <tr>\n",
       "      <th>1552205</th>\n",
       "      <td>21</td>\n",
       "      <td>21</td>\n",
       "      <td>83.0</td>\n",
       "      <td>99.0</td>\n",
       "      <td>NaN</td>\n",
       "      <td>121.0</td>\n",
       "      <td>77.0</td>\n",
       "      <td>54.0</td>\n",
       "      <td>22.0</td>\n",
       "      <td>NaN</td>\n",
       "      <td>...</td>\n",
       "      <td>NaN</td>\n",
       "      <td>NaN</td>\n",
       "      <td>88.00</td>\n",
       "      <td>0</td>\n",
       "      <td>1.0</td>\n",
       "      <td>0.0</td>\n",
       "      <td>-2.93</td>\n",
       "      <td>22</td>\n",
       "      <td>0</td>\n",
       "      <td>113911</td>\n",
       "    </tr>\n",
       "    <tr>\n",
       "      <th>1552206</th>\n",
       "      <td>22</td>\n",
       "      <td>22</td>\n",
       "      <td>80.0</td>\n",
       "      <td>92.0</td>\n",
       "      <td>NaN</td>\n",
       "      <td>102.0</td>\n",
       "      <td>73.0</td>\n",
       "      <td>51.0</td>\n",
       "      <td>24.0</td>\n",
       "      <td>NaN</td>\n",
       "      <td>...</td>\n",
       "      <td>NaN</td>\n",
       "      <td>NaN</td>\n",
       "      <td>88.00</td>\n",
       "      <td>0</td>\n",
       "      <td>1.0</td>\n",
       "      <td>0.0</td>\n",
       "      <td>-2.93</td>\n",
       "      <td>23</td>\n",
       "      <td>0</td>\n",
       "      <td>113911</td>\n",
       "    </tr>\n",
       "    <tr>\n",
       "      <th>1552207</th>\n",
       "      <td>23</td>\n",
       "      <td>23</td>\n",
       "      <td>95.0</td>\n",
       "      <td>97.0</td>\n",
       "      <td>36.7</td>\n",
       "      <td>128.5</td>\n",
       "      <td>83.0</td>\n",
       "      <td>58.5</td>\n",
       "      <td>25.0</td>\n",
       "      <td>NaN</td>\n",
       "      <td>...</td>\n",
       "      <td>NaN</td>\n",
       "      <td>NaN</td>\n",
       "      <td>88.00</td>\n",
       "      <td>0</td>\n",
       "      <td>1.0</td>\n",
       "      <td>0.0</td>\n",
       "      <td>-2.93</td>\n",
       "      <td>24</td>\n",
       "      <td>0</td>\n",
       "      <td>113911</td>\n",
       "    </tr>\n",
       "    <tr>\n",
       "      <th>1552208</th>\n",
       "      <td>24</td>\n",
       "      <td>24</td>\n",
       "      <td>104.0</td>\n",
       "      <td>99.0</td>\n",
       "      <td>NaN</td>\n",
       "      <td>127.0</td>\n",
       "      <td>85.0</td>\n",
       "      <td>59.0</td>\n",
       "      <td>24.0</td>\n",
       "      <td>NaN</td>\n",
       "      <td>...</td>\n",
       "      <td>NaN</td>\n",
       "      <td>NaN</td>\n",
       "      <td>88.00</td>\n",
       "      <td>0</td>\n",
       "      <td>1.0</td>\n",
       "      <td>0.0</td>\n",
       "      <td>-2.93</td>\n",
       "      <td>25</td>\n",
       "      <td>0</td>\n",
       "      <td>113911</td>\n",
       "    </tr>\n",
       "    <tr>\n",
       "      <th>1552209</th>\n",
       "      <td>25</td>\n",
       "      <td>25</td>\n",
       "      <td>94.5</td>\n",
       "      <td>99.0</td>\n",
       "      <td>NaN</td>\n",
       "      <td>112.0</td>\n",
       "      <td>81.0</td>\n",
       "      <td>56.0</td>\n",
       "      <td>22.0</td>\n",
       "      <td>NaN</td>\n",
       "      <td>...</td>\n",
       "      <td>NaN</td>\n",
       "      <td>NaN</td>\n",
       "      <td>88.00</td>\n",
       "      <td>0</td>\n",
       "      <td>1.0</td>\n",
       "      <td>0.0</td>\n",
       "      <td>-2.93</td>\n",
       "      <td>26</td>\n",
       "      <td>0</td>\n",
       "      <td>113911</td>\n",
       "    </tr>\n",
       "  </tbody>\n",
       "</table>\n",
       "<p>1552210 rows × 44 columns</p>\n",
       "</div>"
      ],
      "text/plain": [
       "         Unnamed: 0  Hour     HR  O2Sat  Temp    SBP   MAP   DBP  Resp  EtCO2  \\\n",
       "0                 0     0    NaN    NaN   NaN    NaN   NaN   NaN   NaN    NaN   \n",
       "1                 1     1   65.0  100.0   NaN    NaN  72.0   NaN  16.5    NaN   \n",
       "2                 2     2   78.0  100.0   NaN    NaN  42.5   NaN   NaN    NaN   \n",
       "3                 3     3   73.0  100.0   NaN    NaN   NaN   NaN  17.0    NaN   \n",
       "4                 4     4   70.0  100.0   NaN  129.0  74.0  69.0  14.0    NaN   \n",
       "...             ...   ...    ...    ...   ...    ...   ...   ...   ...    ...   \n",
       "1552205          21    21   83.0   99.0   NaN  121.0  77.0  54.0  22.0    NaN   \n",
       "1552206          22    22   80.0   92.0   NaN  102.0  73.0  51.0  24.0    NaN   \n",
       "1552207          23    23   95.0   97.0  36.7  128.5  83.0  58.5  25.0    NaN   \n",
       "1552208          24    24  104.0   99.0   NaN  127.0  85.0  59.0  24.0    NaN   \n",
       "1552209          25    25   94.5   99.0   NaN  112.0  81.0  56.0  22.0    NaN   \n",
       "\n",
       "         ...  Fibrinogen  Platelets    Age  Gender  Unit1  Unit2  HospAdmTime  \\\n",
       "0        ...         NaN        NaN  68.54       0    NaN    NaN        -0.02   \n",
       "1        ...         NaN        NaN  68.54       0    NaN    NaN        -0.02   \n",
       "2        ...         NaN        NaN  68.54       0    NaN    NaN        -0.02   \n",
       "3        ...         NaN        NaN  68.54       0    NaN    NaN        -0.02   \n",
       "4        ...         NaN      330.0  68.54       0    NaN    NaN        -0.02   \n",
       "...      ...         ...        ...    ...     ...    ...    ...          ...   \n",
       "1552205  ...         NaN        NaN  88.00       0    1.0    0.0        -2.93   \n",
       "1552206  ...         NaN        NaN  88.00       0    1.0    0.0        -2.93   \n",
       "1552207  ...         NaN        NaN  88.00       0    1.0    0.0        -2.93   \n",
       "1552208  ...         NaN        NaN  88.00       0    1.0    0.0        -2.93   \n",
       "1552209  ...         NaN        NaN  88.00       0    1.0    0.0        -2.93   \n",
       "\n",
       "         ICULOS  SepsisLabel  Patient_ID  \n",
       "0             1            0       17072  \n",
       "1             2            0       17072  \n",
       "2             3            0       17072  \n",
       "3             4            0       17072  \n",
       "4             5            0       17072  \n",
       "...         ...          ...         ...  \n",
       "1552205      22            0      113911  \n",
       "1552206      23            0      113911  \n",
       "1552207      24            0      113911  \n",
       "1552208      25            0      113911  \n",
       "1552209      26            0      113911  \n",
       "\n",
       "[1552210 rows x 44 columns]"
      ]
     },
     "execution_count": 3,
     "metadata": {},
     "output_type": "execute_result"
    }
   ],
   "source": [
    "data"
   ]
  },
  {
   "cell_type": "code",
   "execution_count": 4,
   "id": "08d59862",
   "metadata": {},
   "outputs": [],
   "source": [
    "patient_ids_sepsis = set(data[data[\"SepsisLabel\"] == 1][\"Patient_ID\"])\n",
    "\n",
    "sepsis_patients = data[(data[\"Patient_ID\"].isin(patient_ids_sepsis)) & (data[\"SepsisLabel\"] == 0)]\n",
    "\n",
    "sepsis_dataset = pd.DataFrame()\n",
    "\n",
    "for sepsis_patient in patient_ids_sepsis:\n",
    "    patient_slice = sepsis_patients[sepsis_patients[\"Patient_ID\"] == sepsis_patient]\n",
    "    sepsis_dataset = pd.concat([sepsis_dataset, patient_slice], axis = 0)"
   ]
  },
  {
   "cell_type": "code",
   "execution_count": 5,
   "id": "cc668eb3",
   "metadata": {},
   "outputs": [
    {
     "data": {
      "text/plain": [
       "144494"
      ]
     },
     "execution_count": 5,
     "metadata": {},
     "output_type": "execute_result"
    }
   ],
   "source": [
    "len(sepsis_patients)"
   ]
  },
  {
   "cell_type": "code",
   "execution_count": 6,
   "id": "617fbbda",
   "metadata": {},
   "outputs": [],
   "source": [
    "half_size = len(patient_ids_sepsis) // 2\n",
    "sampled_half = random.sample(list(patient_ids_sepsis), half_size)\n",
    "other_half = patient_ids_sepsis.difference(set(sampled_half))"
   ]
  },
  {
   "cell_type": "code",
   "execution_count": 7,
   "id": "075b4f42",
   "metadata": {},
   "outputs": [],
   "source": [
    "train_sepsis = sepsis_patients[sepsis_patients[\"Patient_ID\"].isin(sampled_half)]"
   ]
  },
  {
   "cell_type": "code",
   "execution_count": 8,
   "id": "31ef491a",
   "metadata": {},
   "outputs": [],
   "source": [
    "test_sepsis = sepsis_patients[sepsis_patients[\"Patient_ID\"].isin(other_half)]"
   ]
  },
  {
   "cell_type": "code",
   "execution_count": 9,
   "id": "8cb86d5f",
   "metadata": {},
   "outputs": [],
   "source": [
    "patient_ids_non_sepsis = set(data[data[\"SepsisLabel\"] == 0][\"Patient_ID\"])"
   ]
  },
  {
   "cell_type": "code",
   "execution_count": 10,
   "id": "346fe2cf",
   "metadata": {},
   "outputs": [],
   "source": [
    "non_sepsis_patients = data[data[\"SepsisLabel\"] == 0]"
   ]
  },
  {
   "cell_type": "code",
   "execution_count": 11,
   "id": "f90f7f9d",
   "metadata": {},
   "outputs": [
    {
     "data": {
      "text/plain": [
       "1524294"
      ]
     },
     "execution_count": 11,
     "metadata": {},
     "output_type": "execute_result"
    }
   ],
   "source": [
    "len(non_sepsis_patients)"
   ]
  },
  {
   "cell_type": "code",
   "execution_count": 12,
   "id": "311a796b",
   "metadata": {},
   "outputs": [],
   "source": [
    "random.seed(123)\n",
    "half_size = len(patient_ids_non_sepsis) // 2\n",
    "sampled_half = random.sample(list(patient_ids_non_sepsis), half_size)\n",
    "other_half = patient_ids_non_sepsis.difference(set(sampled_half))"
   ]
  },
  {
   "cell_type": "code",
   "execution_count": 13,
   "id": "3eb2c6c6",
   "metadata": {},
   "outputs": [],
   "source": [
    "test_non_sepsis = non_sepsis_patients[non_sepsis_patients[\"Patient_ID\"].isin(sampled_half)]"
   ]
  },
  {
   "cell_type": "code",
   "execution_count": 14,
   "id": "5c1d1b3d",
   "metadata": {},
   "outputs": [],
   "source": [
    "train_non_sepsis = non_sepsis_patients[non_sepsis_patients[\"Patient_ID\"].isin(other_half)]"
   ]
  },
  {
   "cell_type": "code",
   "execution_count": 15,
   "id": "95ab3dbc",
   "metadata": {},
   "outputs": [
    {
     "name": "stderr",
     "output_type": "stream",
     "text": [
      "C:\\Users\\kevin\\AppData\\Local\\Temp\\ipykernel_20136\\2790480915.py:1: SettingWithCopyWarning: \n",
      "A value is trying to be set on a copy of a slice from a DataFrame.\n",
      "Try using .loc[row_indexer,col_indexer] = value instead\n",
      "\n",
      "See the caveats in the documentation: https://pandas.pydata.org/pandas-docs/stable/user_guide/indexing.html#returning-a-view-versus-a-copy\n",
      "  train_sepsis['SepsisLabel'] = train_sepsis['SepsisLabel'].replace(0, 1)\n"
     ]
    }
   ],
   "source": [
    "train_sepsis['SepsisLabel'] = train_sepsis['SepsisLabel'].replace(0, 1)"
   ]
  },
  {
   "cell_type": "code",
   "execution_count": 16,
   "id": "2d8dcb22",
   "metadata": {},
   "outputs": [
    {
     "name": "stderr",
     "output_type": "stream",
     "text": [
      "C:\\Users\\kevin\\AppData\\Local\\Temp\\ipykernel_20136\\271134428.py:1: SettingWithCopyWarning: \n",
      "A value is trying to be set on a copy of a slice from a DataFrame.\n",
      "Try using .loc[row_indexer,col_indexer] = value instead\n",
      "\n",
      "See the caveats in the documentation: https://pandas.pydata.org/pandas-docs/stable/user_guide/indexing.html#returning-a-view-versus-a-copy\n",
      "  test_sepsis['SepsisLabel'] = test_sepsis['SepsisLabel'].replace(0, 1)\n"
     ]
    }
   ],
   "source": [
    "test_sepsis['SepsisLabel'] = test_sepsis['SepsisLabel'].replace(0, 1)"
   ]
  },
  {
   "cell_type": "markdown",
   "id": "24c908e9",
   "metadata": {},
   "source": [
    "# Outlier removal (hours)"
   ]
  },
  {
   "cell_type": "code",
   "execution_count": 17,
   "id": "01f47fe6",
   "metadata": {},
   "outputs": [
    {
     "data": {
      "text/plain": [
       "count    67710.000000\n",
       "mean        56.213750\n",
       "std         53.751227\n",
       "min          0.000000\n",
       "25%         16.000000\n",
       "50%         40.000000\n",
       "75%         80.000000\n",
       "max        329.000000\n",
       "Name: Hour, dtype: float64"
      ]
     },
     "execution_count": 17,
     "metadata": {},
     "output_type": "execute_result"
    }
   ],
   "source": [
    "train_sepsis[\"Hour\"].describe()"
   ]
  },
  {
   "cell_type": "code",
   "execution_count": 18,
   "id": "3612e48a",
   "metadata": {},
   "outputs": [
    {
     "data": {
      "text/plain": [
       "149.5"
      ]
     },
     "execution_count": 18,
     "metadata": {},
     "output_type": "execute_result"
    }
   ],
   "source": [
    "43 + 1.5 * (88 - 17)"
   ]
  },
  {
   "cell_type": "code",
   "execution_count": 19,
   "id": "2d072fd0",
   "metadata": {},
   "outputs": [],
   "source": [
    "train_sepsis = train_sepsis[train_sepsis[\"Hour\"] < 150]"
   ]
  },
  {
   "cell_type": "code",
   "execution_count": 20,
   "id": "59778745",
   "metadata": {},
   "outputs": [
    {
     "data": {
      "text/plain": [
       "count    76784.000000\n",
       "mean        62.532819\n",
       "std         57.586078\n",
       "min          0.000000\n",
       "25%         18.000000\n",
       "50%         45.000000\n",
       "75%         91.000000\n",
       "max        329.000000\n",
       "Name: Hour, dtype: float64"
      ]
     },
     "execution_count": 20,
     "metadata": {},
     "output_type": "execute_result"
    }
   ],
   "source": [
    "test_sepsis[\"Hour\"].describe()"
   ]
  },
  {
   "cell_type": "code",
   "execution_count": 21,
   "id": "e2dda6b7",
   "metadata": {},
   "outputs": [
    {
     "data": {
      "text/plain": [
       "142.5"
      ]
     },
     "execution_count": 21,
     "metadata": {},
     "output_type": "execute_result"
    }
   ],
   "source": [
    "42 + 1.5 * (84 - 17)"
   ]
  },
  {
   "cell_type": "code",
   "execution_count": 22,
   "id": "41f9ae6c",
   "metadata": {},
   "outputs": [],
   "source": [
    "test_sepsis = test_sepsis[test_sepsis[\"Hour\"] < 143]"
   ]
  },
  {
   "cell_type": "code",
   "execution_count": 23,
   "id": "1649b7c6",
   "metadata": {},
   "outputs": [
    {
     "data": {
      "text/plain": [
       "count    764214.000000\n",
       "mean         25.536150\n",
       "std          29.603779\n",
       "min           0.000000\n",
       "25%           9.000000\n",
       "50%          19.000000\n",
       "75%          33.000000\n",
       "max         335.000000\n",
       "Name: Hour, dtype: float64"
      ]
     },
     "execution_count": 23,
     "metadata": {},
     "output_type": "execute_result"
    }
   ],
   "source": [
    "train_non_sepsis[\"Hour\"].describe()"
   ]
  },
  {
   "cell_type": "code",
   "execution_count": 24,
   "id": "5b768c4f",
   "metadata": {},
   "outputs": [
    {
     "data": {
      "text/plain": [
       "55.0"
      ]
     },
     "execution_count": 24,
     "metadata": {},
     "output_type": "execute_result"
    }
   ],
   "source": [
    "19 + 1.5 * (33 - 9)"
   ]
  },
  {
   "cell_type": "code",
   "execution_count": 25,
   "id": "48ce0ddf",
   "metadata": {},
   "outputs": [],
   "source": [
    "train_non_sepsis = train_non_sepsis[train_non_sepsis[\"Hour\"] < 55]"
   ]
  },
  {
   "cell_type": "code",
   "execution_count": 26,
   "id": "2364c6fd",
   "metadata": {},
   "outputs": [
    {
     "data": {
      "text/plain": [
       "count    760080.000000\n",
       "mean         24.400654\n",
       "std          25.762528\n",
       "min           0.000000\n",
       "25%           9.000000\n",
       "50%          19.000000\n",
       "75%          33.000000\n",
       "max         335.000000\n",
       "Name: Hour, dtype: float64"
      ]
     },
     "execution_count": 26,
     "metadata": {},
     "output_type": "execute_result"
    }
   ],
   "source": [
    "test_non_sepsis[\"Hour\"].describe()"
   ]
  },
  {
   "cell_type": "code",
   "execution_count": 27,
   "id": "9ab58bc8",
   "metadata": {},
   "outputs": [
    {
     "data": {
      "text/plain": [
       "55.0"
      ]
     },
     "execution_count": 27,
     "metadata": {},
     "output_type": "execute_result"
    }
   ],
   "source": [
    "19 + 1.5 * (33 - 9)"
   ]
  },
  {
   "cell_type": "code",
   "execution_count": 28,
   "id": "bc72e634",
   "metadata": {},
   "outputs": [],
   "source": [
    "test_non_sepsis = test_non_sepsis[test_non_sepsis[\"Hour\"] < 55]"
   ]
  },
  {
   "cell_type": "code",
   "execution_count": 29,
   "id": "75bcddc2",
   "metadata": {},
   "outputs": [
    {
     "data": {
      "text/plain": [
       "(62785, 44)"
      ]
     },
     "execution_count": 29,
     "metadata": {},
     "output_type": "execute_result"
    }
   ],
   "source": [
    "train_sepsis.shape"
   ]
  },
  {
   "cell_type": "code",
   "execution_count": 30,
   "id": "7918efd7",
   "metadata": {},
   "outputs": [
    {
     "data": {
      "text/plain": [
       "(720312, 44)"
      ]
     },
     "execution_count": 30,
     "metadata": {},
     "output_type": "execute_result"
    }
   ],
   "source": [
    "train_non_sepsis.shape"
   ]
  },
  {
   "cell_type": "code",
   "execution_count": 31,
   "id": "2b77d9f8",
   "metadata": {},
   "outputs": [
    {
     "data": {
      "text/plain": [
       "11.472676594728041"
      ]
     },
     "execution_count": 31,
     "metadata": {},
     "output_type": "execute_result"
    }
   ],
   "source": [
    "len(train_non_sepsis) / len(train_sepsis)"
   ]
  },
  {
   "cell_type": "markdown",
   "id": "4361e236",
   "metadata": {},
   "source": [
    "# Majority class undersampling (non-sepsis)"
   ]
  },
  {
   "cell_type": "code",
   "execution_count": 32,
   "id": "debd4203",
   "metadata": {},
   "outputs": [],
   "source": [
    "train_non_sepsis = train_non_sepsis.sample(frac = 0.1)"
   ]
  },
  {
   "cell_type": "code",
   "execution_count": 33,
   "id": "736c0358",
   "metadata": {},
   "outputs": [
    {
     "data": {
      "text/plain": [
       "(68415, 44)"
      ]
     },
     "execution_count": 33,
     "metadata": {},
     "output_type": "execute_result"
    }
   ],
   "source": [
    "test_sepsis.shape"
   ]
  },
  {
   "cell_type": "code",
   "execution_count": 34,
   "id": "bae4c6df",
   "metadata": {},
   "outputs": [
    {
     "data": {
      "text/plain": [
       "(722331, 44)"
      ]
     },
     "execution_count": 34,
     "metadata": {},
     "output_type": "execute_result"
    }
   ],
   "source": [
    "test_non_sepsis.shape"
   ]
  },
  {
   "cell_type": "code",
   "execution_count": 35,
   "id": "80ccfc60",
   "metadata": {},
   "outputs": [
    {
     "data": {
      "text/plain": [
       "1.1472644739985665"
      ]
     },
     "execution_count": 35,
     "metadata": {},
     "output_type": "execute_result"
    }
   ],
   "source": [
    "len(train_non_sepsis) / len(train_sepsis)"
   ]
  },
  {
   "cell_type": "code",
   "execution_count": 36,
   "id": "fda7cf81",
   "metadata": {},
   "outputs": [
    {
     "data": {
      "text/plain": [
       "10.558079368559527"
      ]
     },
     "execution_count": 36,
     "metadata": {},
     "output_type": "execute_result"
    }
   ],
   "source": [
    "len(test_non_sepsis) / len(test_sepsis)"
   ]
  },
  {
   "cell_type": "code",
   "execution_count": 37,
   "id": "45b6d486",
   "metadata": {},
   "outputs": [],
   "source": [
    "# test_non_sepsis = test_non_sepsis.sample(frac = 0.1)"
   ]
  },
  {
   "cell_type": "code",
   "execution_count": 38,
   "id": "e1d4bcce",
   "metadata": {},
   "outputs": [],
   "source": [
    "X_train = pd.concat([train_sepsis, train_non_sepsis], axis = 0)\n",
    "X_test = pd.concat([test_sepsis, test_non_sepsis], axis = 0)"
   ]
  },
  {
   "cell_type": "code",
   "execution_count": 39,
   "id": "ca68c3ee",
   "metadata": {},
   "outputs": [],
   "source": [
    "y_train = X_train[\"SepsisLabel\"]\n",
    "y_test = X_test[\"SepsisLabel\"]"
   ]
  },
  {
   "cell_type": "code",
   "execution_count": 40,
   "id": "5412c098",
   "metadata": {},
   "outputs": [],
   "source": [
    "X_train = X_train.drop([\"Unnamed: 0\", \"SepsisLabel\", \"Patient_ID\"], axis = 1)\n",
    "X_test = X_test.drop([\"Unnamed: 0\", \"SepsisLabel\", \"Patient_ID\"], axis = 1)"
   ]
  },
  {
   "cell_type": "markdown",
   "id": "39d1984f",
   "metadata": {},
   "source": [
    "# Median Value Imputation"
   ]
  },
  {
   "cell_type": "code",
   "execution_count": 41,
   "id": "80477d93",
   "metadata": {},
   "outputs": [],
   "source": [
    "imputer = SimpleImputer(strategy='median')\n",
    "X_train = imputer.fit_transform(X_train)\n",
    "X_test = imputer.fit_transform(X_test)"
   ]
  },
  {
   "cell_type": "markdown",
   "id": "7c7ff1d8",
   "metadata": {},
   "source": [
    "# Scaling"
   ]
  },
  {
   "cell_type": "code",
   "execution_count": 42,
   "id": "8896c247",
   "metadata": {},
   "outputs": [],
   "source": [
    "# scaler = StandardScaler()\n",
    "# X_train = scaler.fit_transform(X_train)\n",
    "# X_test = scaler.transform(X_test)"
   ]
  },
  {
   "cell_type": "code",
   "execution_count": 43,
   "id": "7aa89bb9",
   "metadata": {},
   "outputs": [
    {
     "data": {
      "text/plain": [
       "0.4657088179444576"
      ]
     },
     "execution_count": 43,
     "metadata": {},
     "output_type": "execute_result"
    }
   ],
   "source": [
    "sum(y_train) / len(y_train)"
   ]
  },
  {
   "cell_type": "code",
   "execution_count": 44,
   "id": "e4e18bd0",
   "metadata": {},
   "outputs": [
    {
     "data": {
      "text/plain": [
       "0.0865195650689349"
      ]
     },
     "execution_count": 44,
     "metadata": {},
     "output_type": "execute_result"
    }
   ],
   "source": [
    "sum(y_test) / len(y_test)"
   ]
  },
  {
   "cell_type": "code",
   "execution_count": 62,
   "id": "f1c71932",
   "metadata": {},
   "outputs": [],
   "source": [
    "model = Sequential()\n",
    "\n",
    "model.add(Dense(512, input_dim=41))\n",
    "model.add(LeakyReLU(alpha=0.01))\n",
    "model.add(Dense(512, kernel_regularizer=regularizers.L1(0.01)))\n",
    "model.add(LeakyReLU(alpha=0.01))\n",
    "model.add(Dense(512, kernel_regularizer=regularizers.L1(0.01)))\n",
    "model.add(LeakyReLU(alpha=0.01))\n",
    "\n",
    "model.add(Dense(1, activation='sigmoid'))"
   ]
  },
  {
   "cell_type": "code",
   "execution_count": 63,
   "id": "f8bfd688",
   "metadata": {},
   "outputs": [],
   "source": [
    "# Compile the model\n",
    "model.compile(loss='binary_crossentropy', optimizer='adam', metrics=['accuracy'])"
   ]
  },
  {
   "cell_type": "code",
   "execution_count": 70,
   "id": "a7b17219",
   "metadata": {},
   "outputs": [],
   "source": [
    "early_stopping = EarlyStopping(monitor='val_accuracy', min_delta=0, patience=3, verbose=1, mode='auto')"
   ]
  },
  {
   "cell_type": "code",
   "execution_count": 71,
   "id": "606219d0",
   "metadata": {},
   "outputs": [
    {
     "name": "stdout",
     "output_type": "stream",
     "text": [
      "Epoch 1/100\n",
      "26963/26963 [==============================] - 190s 7ms/step - loss: 1.1085 - accuracy: 0.6421 - val_loss: 1.2188 - val_accuracy: 0.9487\n",
      "Epoch 2/100\n",
      "26963/26963 [==============================] - 181s 7ms/step - loss: 1.1073 - accuracy: 0.6424 - val_loss: 1.1900 - val_accuracy: 0.9591\n",
      "Epoch 3/100\n",
      " 3281/26963 [==>...........................] - ETA: 2:35 - loss: 1.1048 - accuracy: 0.6441"
     ]
    },
    {
     "ename": "KeyboardInterrupt",
     "evalue": "",
     "output_type": "error",
     "traceback": [
      "\u001b[1;31m---------------------------------------------------------------------------\u001b[0m",
      "\u001b[1;31mKeyboardInterrupt\u001b[0m                         Traceback (most recent call last)",
      "Cell \u001b[1;32mIn[71], line 1\u001b[0m\n\u001b[1;32m----> 1\u001b[0m model\u001b[38;5;241m.\u001b[39mfit(X_train, y_train,\n\u001b[0;32m      2\u001b[0m           epochs\u001b[38;5;241m=\u001b[39m\u001b[38;5;241m100\u001b[39m,\n\u001b[0;32m      3\u001b[0m           batch_size\u001b[38;5;241m=\u001b[39m\u001b[38;5;241m4\u001b[39m,\n\u001b[0;32m      4\u001b[0m           validation_split\u001b[38;5;241m=\u001b[39m\u001b[38;5;241m0.2\u001b[39m,\n\u001b[0;32m      5\u001b[0m           callbacks\u001b[38;5;241m=\u001b[39m[early_stopping])\n",
      "File \u001b[1;32m~\\anaconda3\\Lib\\site-packages\\keras\\src\\utils\\traceback_utils.py:65\u001b[0m, in \u001b[0;36mfilter_traceback.<locals>.error_handler\u001b[1;34m(*args, **kwargs)\u001b[0m\n\u001b[0;32m     63\u001b[0m filtered_tb \u001b[38;5;241m=\u001b[39m \u001b[38;5;28;01mNone\u001b[39;00m\n\u001b[0;32m     64\u001b[0m \u001b[38;5;28;01mtry\u001b[39;00m:\n\u001b[1;32m---> 65\u001b[0m     \u001b[38;5;28;01mreturn\u001b[39;00m fn(\u001b[38;5;241m*\u001b[39margs, \u001b[38;5;241m*\u001b[39m\u001b[38;5;241m*\u001b[39mkwargs)\n\u001b[0;32m     66\u001b[0m \u001b[38;5;28;01mexcept\u001b[39;00m \u001b[38;5;167;01mException\u001b[39;00m \u001b[38;5;28;01mas\u001b[39;00m e:\n\u001b[0;32m     67\u001b[0m     filtered_tb \u001b[38;5;241m=\u001b[39m _process_traceback_frames(e\u001b[38;5;241m.\u001b[39m__traceback__)\n",
      "File \u001b[1;32m~\\anaconda3\\Lib\\site-packages\\keras\\src\\engine\\training.py:1742\u001b[0m, in \u001b[0;36mModel.fit\u001b[1;34m(self, x, y, batch_size, epochs, verbose, callbacks, validation_split, validation_data, shuffle, class_weight, sample_weight, initial_epoch, steps_per_epoch, validation_steps, validation_batch_size, validation_freq, max_queue_size, workers, use_multiprocessing)\u001b[0m\n\u001b[0;32m   1734\u001b[0m \u001b[38;5;28;01mwith\u001b[39;00m tf\u001b[38;5;241m.\u001b[39mprofiler\u001b[38;5;241m.\u001b[39mexperimental\u001b[38;5;241m.\u001b[39mTrace(\n\u001b[0;32m   1735\u001b[0m     \u001b[38;5;124m\"\u001b[39m\u001b[38;5;124mtrain\u001b[39m\u001b[38;5;124m\"\u001b[39m,\n\u001b[0;32m   1736\u001b[0m     epoch_num\u001b[38;5;241m=\u001b[39mepoch,\n\u001b[1;32m   (...)\u001b[0m\n\u001b[0;32m   1739\u001b[0m     _r\u001b[38;5;241m=\u001b[39m\u001b[38;5;241m1\u001b[39m,\n\u001b[0;32m   1740\u001b[0m ):\n\u001b[0;32m   1741\u001b[0m     callbacks\u001b[38;5;241m.\u001b[39mon_train_batch_begin(step)\n\u001b[1;32m-> 1742\u001b[0m     tmp_logs \u001b[38;5;241m=\u001b[39m \u001b[38;5;28mself\u001b[39m\u001b[38;5;241m.\u001b[39mtrain_function(iterator)\n\u001b[0;32m   1743\u001b[0m     \u001b[38;5;28;01mif\u001b[39;00m data_handler\u001b[38;5;241m.\u001b[39mshould_sync:\n\u001b[0;32m   1744\u001b[0m         context\u001b[38;5;241m.\u001b[39masync_wait()\n",
      "File \u001b[1;32m~\\anaconda3\\Lib\\site-packages\\tensorflow\\python\\util\\traceback_utils.py:150\u001b[0m, in \u001b[0;36mfilter_traceback.<locals>.error_handler\u001b[1;34m(*args, **kwargs)\u001b[0m\n\u001b[0;32m    148\u001b[0m filtered_tb \u001b[38;5;241m=\u001b[39m \u001b[38;5;28;01mNone\u001b[39;00m\n\u001b[0;32m    149\u001b[0m \u001b[38;5;28;01mtry\u001b[39;00m:\n\u001b[1;32m--> 150\u001b[0m   \u001b[38;5;28;01mreturn\u001b[39;00m fn(\u001b[38;5;241m*\u001b[39margs, \u001b[38;5;241m*\u001b[39m\u001b[38;5;241m*\u001b[39mkwargs)\n\u001b[0;32m    151\u001b[0m \u001b[38;5;28;01mexcept\u001b[39;00m \u001b[38;5;167;01mException\u001b[39;00m \u001b[38;5;28;01mas\u001b[39;00m e:\n\u001b[0;32m    152\u001b[0m   filtered_tb \u001b[38;5;241m=\u001b[39m _process_traceback_frames(e\u001b[38;5;241m.\u001b[39m__traceback__)\n",
      "File \u001b[1;32m~\\anaconda3\\Lib\\site-packages\\tensorflow\\python\\eager\\polymorphic_function\\polymorphic_function.py:825\u001b[0m, in \u001b[0;36mFunction.__call__\u001b[1;34m(self, *args, **kwds)\u001b[0m\n\u001b[0;32m    822\u001b[0m compiler \u001b[38;5;241m=\u001b[39m \u001b[38;5;124m\"\u001b[39m\u001b[38;5;124mxla\u001b[39m\u001b[38;5;124m\"\u001b[39m \u001b[38;5;28;01mif\u001b[39;00m \u001b[38;5;28mself\u001b[39m\u001b[38;5;241m.\u001b[39m_jit_compile \u001b[38;5;28;01melse\u001b[39;00m \u001b[38;5;124m\"\u001b[39m\u001b[38;5;124mnonXla\u001b[39m\u001b[38;5;124m\"\u001b[39m\n\u001b[0;32m    824\u001b[0m \u001b[38;5;28;01mwith\u001b[39;00m OptionalXlaContext(\u001b[38;5;28mself\u001b[39m\u001b[38;5;241m.\u001b[39m_jit_compile):\n\u001b[1;32m--> 825\u001b[0m   result \u001b[38;5;241m=\u001b[39m \u001b[38;5;28mself\u001b[39m\u001b[38;5;241m.\u001b[39m_call(\u001b[38;5;241m*\u001b[39margs, \u001b[38;5;241m*\u001b[39m\u001b[38;5;241m*\u001b[39mkwds)\n\u001b[0;32m    827\u001b[0m new_tracing_count \u001b[38;5;241m=\u001b[39m \u001b[38;5;28mself\u001b[39m\u001b[38;5;241m.\u001b[39mexperimental_get_tracing_count()\n\u001b[0;32m    828\u001b[0m without_tracing \u001b[38;5;241m=\u001b[39m (tracing_count \u001b[38;5;241m==\u001b[39m new_tracing_count)\n",
      "File \u001b[1;32m~\\anaconda3\\Lib\\site-packages\\tensorflow\\python\\eager\\polymorphic_function\\polymorphic_function.py:857\u001b[0m, in \u001b[0;36mFunction._call\u001b[1;34m(self, *args, **kwds)\u001b[0m\n\u001b[0;32m    854\u001b[0m   \u001b[38;5;28mself\u001b[39m\u001b[38;5;241m.\u001b[39m_lock\u001b[38;5;241m.\u001b[39mrelease()\n\u001b[0;32m    855\u001b[0m   \u001b[38;5;66;03m# In this case we have created variables on the first call, so we run the\u001b[39;00m\n\u001b[0;32m    856\u001b[0m   \u001b[38;5;66;03m# defunned version which is guaranteed to never create variables.\u001b[39;00m\n\u001b[1;32m--> 857\u001b[0m   \u001b[38;5;28;01mreturn\u001b[39;00m \u001b[38;5;28mself\u001b[39m\u001b[38;5;241m.\u001b[39m_no_variable_creation_fn(\u001b[38;5;241m*\u001b[39margs, \u001b[38;5;241m*\u001b[39m\u001b[38;5;241m*\u001b[39mkwds)  \u001b[38;5;66;03m# pylint: disable=not-callable\u001b[39;00m\n\u001b[0;32m    858\u001b[0m \u001b[38;5;28;01melif\u001b[39;00m \u001b[38;5;28mself\u001b[39m\u001b[38;5;241m.\u001b[39m_variable_creation_fn \u001b[38;5;129;01mis\u001b[39;00m \u001b[38;5;129;01mnot\u001b[39;00m \u001b[38;5;28;01mNone\u001b[39;00m:\n\u001b[0;32m    859\u001b[0m   \u001b[38;5;66;03m# Release the lock early so that multiple threads can perform the call\u001b[39;00m\n\u001b[0;32m    860\u001b[0m   \u001b[38;5;66;03m# in parallel.\u001b[39;00m\n\u001b[0;32m    861\u001b[0m   \u001b[38;5;28mself\u001b[39m\u001b[38;5;241m.\u001b[39m_lock\u001b[38;5;241m.\u001b[39mrelease()\n",
      "File \u001b[1;32m~\\anaconda3\\Lib\\site-packages\\tensorflow\\python\\eager\\polymorphic_function\\tracing_compiler.py:148\u001b[0m, in \u001b[0;36mTracingCompiler.__call__\u001b[1;34m(self, *args, **kwargs)\u001b[0m\n\u001b[0;32m    145\u001b[0m \u001b[38;5;28;01mwith\u001b[39;00m \u001b[38;5;28mself\u001b[39m\u001b[38;5;241m.\u001b[39m_lock:\n\u001b[0;32m    146\u001b[0m   (concrete_function,\n\u001b[0;32m    147\u001b[0m    filtered_flat_args) \u001b[38;5;241m=\u001b[39m \u001b[38;5;28mself\u001b[39m\u001b[38;5;241m.\u001b[39m_maybe_define_function(args, kwargs)\n\u001b[1;32m--> 148\u001b[0m \u001b[38;5;28;01mreturn\u001b[39;00m concrete_function\u001b[38;5;241m.\u001b[39m_call_flat(\n\u001b[0;32m    149\u001b[0m     filtered_flat_args, captured_inputs\u001b[38;5;241m=\u001b[39mconcrete_function\u001b[38;5;241m.\u001b[39mcaptured_inputs)\n",
      "File \u001b[1;32m~\\anaconda3\\Lib\\site-packages\\tensorflow\\python\\eager\\polymorphic_function\\monomorphic_function.py:1349\u001b[0m, in \u001b[0;36mConcreteFunction._call_flat\u001b[1;34m(self, args, captured_inputs)\u001b[0m\n\u001b[0;32m   1345\u001b[0m possible_gradient_type \u001b[38;5;241m=\u001b[39m gradients_util\u001b[38;5;241m.\u001b[39mPossibleTapeGradientTypes(args)\n\u001b[0;32m   1346\u001b[0m \u001b[38;5;28;01mif\u001b[39;00m (possible_gradient_type \u001b[38;5;241m==\u001b[39m gradients_util\u001b[38;5;241m.\u001b[39mPOSSIBLE_GRADIENT_TYPES_NONE\n\u001b[0;32m   1347\u001b[0m     \u001b[38;5;129;01mand\u001b[39;00m executing_eagerly):\n\u001b[0;32m   1348\u001b[0m   \u001b[38;5;66;03m# No tape is watching; skip to running the function.\u001b[39;00m\n\u001b[1;32m-> 1349\u001b[0m   \u001b[38;5;28;01mreturn\u001b[39;00m \u001b[38;5;28mself\u001b[39m\u001b[38;5;241m.\u001b[39m_build_call_outputs(\u001b[38;5;28mself\u001b[39m\u001b[38;5;241m.\u001b[39m_inference_function(\u001b[38;5;241m*\u001b[39margs))\n\u001b[0;32m   1350\u001b[0m forward_backward \u001b[38;5;241m=\u001b[39m \u001b[38;5;28mself\u001b[39m\u001b[38;5;241m.\u001b[39m_select_forward_and_backward_functions(\n\u001b[0;32m   1351\u001b[0m     args,\n\u001b[0;32m   1352\u001b[0m     possible_gradient_type,\n\u001b[0;32m   1353\u001b[0m     executing_eagerly)\n\u001b[0;32m   1354\u001b[0m forward_function, args_with_tangents \u001b[38;5;241m=\u001b[39m forward_backward\u001b[38;5;241m.\u001b[39mforward()\n",
      "File \u001b[1;32m~\\anaconda3\\Lib\\site-packages\\tensorflow\\python\\eager\\polymorphic_function\\atomic_function.py:196\u001b[0m, in \u001b[0;36mAtomicFunction.__call__\u001b[1;34m(self, *args)\u001b[0m\n\u001b[0;32m    194\u001b[0m \u001b[38;5;28;01mwith\u001b[39;00m record\u001b[38;5;241m.\u001b[39mstop_recording():\n\u001b[0;32m    195\u001b[0m   \u001b[38;5;28;01mif\u001b[39;00m \u001b[38;5;28mself\u001b[39m\u001b[38;5;241m.\u001b[39m_bound_context\u001b[38;5;241m.\u001b[39mexecuting_eagerly():\n\u001b[1;32m--> 196\u001b[0m     outputs \u001b[38;5;241m=\u001b[39m \u001b[38;5;28mself\u001b[39m\u001b[38;5;241m.\u001b[39m_bound_context\u001b[38;5;241m.\u001b[39mcall_function(\n\u001b[0;32m    197\u001b[0m         \u001b[38;5;28mself\u001b[39m\u001b[38;5;241m.\u001b[39mname,\n\u001b[0;32m    198\u001b[0m         \u001b[38;5;28mlist\u001b[39m(args),\n\u001b[0;32m    199\u001b[0m         \u001b[38;5;28mlen\u001b[39m(\u001b[38;5;28mself\u001b[39m\u001b[38;5;241m.\u001b[39mfunction_type\u001b[38;5;241m.\u001b[39mflat_outputs),\n\u001b[0;32m    200\u001b[0m     )\n\u001b[0;32m    201\u001b[0m   \u001b[38;5;28;01melse\u001b[39;00m:\n\u001b[0;32m    202\u001b[0m     outputs \u001b[38;5;241m=\u001b[39m make_call_op_in_graph(\u001b[38;5;28mself\u001b[39m, \u001b[38;5;28mlist\u001b[39m(args))\n",
      "File \u001b[1;32m~\\anaconda3\\Lib\\site-packages\\tensorflow\\python\\eager\\context.py:1457\u001b[0m, in \u001b[0;36mContext.call_function\u001b[1;34m(self, name, tensor_inputs, num_outputs)\u001b[0m\n\u001b[0;32m   1455\u001b[0m cancellation_context \u001b[38;5;241m=\u001b[39m cancellation\u001b[38;5;241m.\u001b[39mcontext()\n\u001b[0;32m   1456\u001b[0m \u001b[38;5;28;01mif\u001b[39;00m cancellation_context \u001b[38;5;129;01mis\u001b[39;00m \u001b[38;5;28;01mNone\u001b[39;00m:\n\u001b[1;32m-> 1457\u001b[0m   outputs \u001b[38;5;241m=\u001b[39m execute\u001b[38;5;241m.\u001b[39mexecute(\n\u001b[0;32m   1458\u001b[0m       name\u001b[38;5;241m.\u001b[39mdecode(\u001b[38;5;124m\"\u001b[39m\u001b[38;5;124mutf-8\u001b[39m\u001b[38;5;124m\"\u001b[39m),\n\u001b[0;32m   1459\u001b[0m       num_outputs\u001b[38;5;241m=\u001b[39mnum_outputs,\n\u001b[0;32m   1460\u001b[0m       inputs\u001b[38;5;241m=\u001b[39mtensor_inputs,\n\u001b[0;32m   1461\u001b[0m       attrs\u001b[38;5;241m=\u001b[39mattrs,\n\u001b[0;32m   1462\u001b[0m       ctx\u001b[38;5;241m=\u001b[39m\u001b[38;5;28mself\u001b[39m,\n\u001b[0;32m   1463\u001b[0m   )\n\u001b[0;32m   1464\u001b[0m \u001b[38;5;28;01melse\u001b[39;00m:\n\u001b[0;32m   1465\u001b[0m   outputs \u001b[38;5;241m=\u001b[39m execute\u001b[38;5;241m.\u001b[39mexecute_with_cancellation(\n\u001b[0;32m   1466\u001b[0m       name\u001b[38;5;241m.\u001b[39mdecode(\u001b[38;5;124m\"\u001b[39m\u001b[38;5;124mutf-8\u001b[39m\u001b[38;5;124m\"\u001b[39m),\n\u001b[0;32m   1467\u001b[0m       num_outputs\u001b[38;5;241m=\u001b[39mnum_outputs,\n\u001b[1;32m   (...)\u001b[0m\n\u001b[0;32m   1471\u001b[0m       cancellation_manager\u001b[38;5;241m=\u001b[39mcancellation_context,\n\u001b[0;32m   1472\u001b[0m   )\n",
      "File \u001b[1;32m~\\anaconda3\\Lib\\site-packages\\tensorflow\\python\\eager\\execute.py:53\u001b[0m, in \u001b[0;36mquick_execute\u001b[1;34m(op_name, num_outputs, inputs, attrs, ctx, name)\u001b[0m\n\u001b[0;32m     51\u001b[0m \u001b[38;5;28;01mtry\u001b[39;00m:\n\u001b[0;32m     52\u001b[0m   ctx\u001b[38;5;241m.\u001b[39mensure_initialized()\n\u001b[1;32m---> 53\u001b[0m   tensors \u001b[38;5;241m=\u001b[39m pywrap_tfe\u001b[38;5;241m.\u001b[39mTFE_Py_Execute(ctx\u001b[38;5;241m.\u001b[39m_handle, device_name, op_name,\n\u001b[0;32m     54\u001b[0m                                       inputs, attrs, num_outputs)\n\u001b[0;32m     55\u001b[0m \u001b[38;5;28;01mexcept\u001b[39;00m core\u001b[38;5;241m.\u001b[39m_NotOkStatusException \u001b[38;5;28;01mas\u001b[39;00m e:\n\u001b[0;32m     56\u001b[0m   \u001b[38;5;28;01mif\u001b[39;00m name \u001b[38;5;129;01mis\u001b[39;00m \u001b[38;5;129;01mnot\u001b[39;00m \u001b[38;5;28;01mNone\u001b[39;00m:\n",
      "\u001b[1;31mKeyboardInterrupt\u001b[0m: "
     ]
    }
   ],
   "source": [
    "model.fit(X_train, y_train,\n",
    "          epochs=100,\n",
    "          batch_size=4,\n",
    "          validation_split=0.2,\n",
    "          callbacks=[early_stopping])"
   ]
  },
  {
   "cell_type": "code",
   "execution_count": 72,
   "id": "7f111f0f",
   "metadata": {},
   "outputs": [
    {
     "name": "stdout",
     "output_type": "stream",
     "text": [
      "24711/24711 [==============================] - 98s 4ms/step\n"
     ]
    }
   ],
   "source": [
    "y_pred = np.round(model.predict(X_test))"
   ]
  },
  {
   "cell_type": "code",
   "execution_count": 73,
   "id": "331cbd9d",
   "metadata": {},
   "outputs": [
    {
     "data": {
      "text/plain": [
       "array([55954.], dtype=float32)"
      ]
     },
     "execution_count": 73,
     "metadata": {},
     "output_type": "execute_result"
    }
   ],
   "source": [
    "sum(y_pred)"
   ]
  },
  {
   "cell_type": "code",
   "execution_count": 74,
   "id": "53ae6d9a",
   "metadata": {},
   "outputs": [
    {
     "data": {
      "text/plain": [
       "68415"
      ]
     },
     "execution_count": 74,
     "metadata": {},
     "output_type": "execute_result"
    }
   ],
   "source": [
    "sum(y_test)"
   ]
  },
  {
   "cell_type": "code",
   "execution_count": 75,
   "id": "93c8c246",
   "metadata": {},
   "outputs": [
    {
     "name": "stdout",
     "output_type": "stream",
     "text": [
      "              precision    recall  f1-score   support\n",
      "\n",
      "           0       0.95      0.96      0.95    722331\n",
      "           1       0.52      0.43      0.47     68415\n",
      "\n",
      "    accuracy                           0.92    790746\n",
      "   macro avg       0.74      0.70      0.71    790746\n",
      "weighted avg       0.91      0.92      0.91    790746\n",
      "\n"
     ]
    }
   ],
   "source": [
    "print(classification_report(y_test, y_pred))"
   ]
  },
  {
   "cell_type": "code",
   "execution_count": 76,
   "id": "07ec7bdb",
   "metadata": {},
   "outputs": [
    {
     "name": "stdout",
     "output_type": "stream",
     "text": [
      "[[695740  26591]\n",
      " [ 39052  29363]]\n"
     ]
    }
   ],
   "source": [
    "print(confusion_matrix(y_test, y_pred))"
   ]
  },
  {
   "cell_type": "code",
   "execution_count": 77,
   "id": "0b2069dd",
   "metadata": {},
   "outputs": [
    {
     "data": {
      "image/png": "[encoded data removed]",
      "text/plain": [
       "<Figure size 640x480 with 1 Axes>"
      ]
     },
     "metadata": {},
     "output_type": "display_data"
    }
   ],
   "source": [
    "# Calculate precision and recall values\n",
    "precision, recall, thresholds = precision_recall_curve(y_test, y_pred)\n",
    "\n",
    "# Plot auPRC curve\n",
    "plt.plot(recall, precision, label='AUPRC')\n",
    "plt.fill_between(recall, precision, alpha=0.2)\n",
    "\n",
    "plt.xlabel('Recall')\n",
    "plt.ylabel('Precision')\n",
    "plt.title('AUPRC Curve')\n",
    "plt.legend()\n",
    "plt.show()"
   ]
  },
  {
   "cell_type": "markdown",
   "id": "eb94bf63",
   "metadata": {},
   "source": [
    "get feature importances"
   ]
  },
  {
   "cell_type": "code",
   "execution_count": 78,
   "id": "3e2c5536",
   "metadata": {},
   "outputs": [
    {
     "name": "stderr",
     "output_type": "stream",
     "text": [
      "C:\\Users\\kevin\\anaconda3\\Lib\\site-packages\\keras\\src\\engine\\training.py:3000: UserWarning: You are saving your model as an HDF5 file via `model.save()`. This file format is considered legacy. We recommend using instead the native Keras format, e.g. `model.save('my_model.keras')`.\n",
      "  saving_api.save_model(\n"
     ]
    }
   ],
   "source": [
    "model.save('DeepSepsis.h5')\n",
    "# from keras.models import load_model\n",
    "# model = load_model('my_model.h5')"
   ]
  },
  {
   "cell_type": "code",
   "execution_count": 79,
   "id": "e660f110",
   "metadata": {},
   "outputs": [
    {
     "name": "stdout",
     "output_type": "stream",
     "text": [
      "Model: \"sequential_4\"\n",
      "_________________________________________________________________\n",
      " Layer (type)                Output Shape              Param #   \n",
      "=================================================================\n",
      " dense_23 (Dense)            (None, 512)               21504     \n",
      "                                                                 \n",
      " leaky_re_lu_19 (LeakyReLU)  (None, 512)               0         \n",
      "                                                                 \n",
      " dense_24 (Dense)            (None, 512)               262656    \n",
      "                                                                 \n",
      " leaky_re_lu_20 (LeakyReLU)  (None, 512)               0         \n",
      "                                                                 \n",
      " dense_25 (Dense)            (None, 512)               262656    \n",
      "                                                                 \n",
      " leaky_re_lu_21 (LeakyReLU)  (None, 512)               0         \n",
      "                                                                 \n",
      " dense_26 (Dense)            (None, 1)                 513       \n",
      "                                                                 \n",
      "=================================================================\n",
      "Total params: 547329 (2.09 MB)\n",
      "Trainable params: 547329 (2.09 MB)\n",
      "Non-trainable params: 0 (0.00 Byte)\n",
      "_________________________________________________________________\n"
     ]
    }
   ],
   "source": [
    "model.summary()"
   ]
  },
  {
   "cell_type": "code",
   "execution_count": 80,
   "id": "fd36c091",
   "metadata": {},
   "outputs": [
    {
     "data": {
      "text/plain": [
       "134816"
      ]
     },
     "execution_count": 80,
     "metadata": {},
     "output_type": "execute_result"
    }
   ],
   "source": [
    "len(X_train)"
   ]
  },
  {
   "cell_type": "code",
   "execution_count": 81,
   "id": "7b336ab6",
   "metadata": {},
   "outputs": [
    {
     "data": {
      "text/plain": [
       "0.4657088179444576"
      ]
     },
     "execution_count": 81,
     "metadata": {},
     "output_type": "execute_result"
    }
   ],
   "source": [
    "sum(y_train) / len(y_train)"
   ]
  },
  {
   "cell_type": "code",
   "execution_count": 82,
   "id": "080d42d5",
   "metadata": {},
   "outputs": [
    {
     "data": {
      "text/plain": [
       "790746"
      ]
     },
     "execution_count": 82,
     "metadata": {},
     "output_type": "execute_result"
    }
   ],
   "source": [
    "len(X_test)"
   ]
  },
  {
   "cell_type": "code",
   "execution_count": 83,
   "id": "394a3d3b",
   "metadata": {},
   "outputs": [
    {
     "data": {
      "text/plain": [
       "0.0865195650689349"
      ]
     },
     "execution_count": 83,
     "metadata": {},
     "output_type": "execute_result"
    }
   ],
   "source": [
    "sum(y_test) / len(y_test)"
   ]
  },
  {
   "cell_type": "code",
   "execution_count": 84,
   "id": "1c76d895",
   "metadata": {},
   "outputs": [],
   "source": [
    "weights = model.layers[0].get_weights()[0]"
   ]
  },
  {
   "cell_type": "code",
   "execution_count": 85,
   "id": "335774ef",
   "metadata": {},
   "outputs": [],
   "source": [
    "abs_weights = np.abs(weights)"
   ]
  },
  {
   "cell_type": "code",
   "execution_count": 86,
   "id": "248a1ae3",
   "metadata": {},
   "outputs": [],
   "source": [
    "feature_importance = np.sum(abs_weights, axis=1)"
   ]
  },
  {
   "cell_type": "code",
   "execution_count": 87,
   "id": "9b2b9849",
   "metadata": {},
   "outputs": [],
   "source": [
    "feature_importance = feature_importance / np.sum(feature_importance)"
   ]
  },
  {
   "cell_type": "code",
   "execution_count": 92,
   "id": "a42274d5",
   "metadata": {},
   "outputs": [
    {
     "data": {
      "text/plain": [
       "41"
      ]
     },
     "execution_count": 92,
     "metadata": {},
     "output_type": "execute_result"
    }
   ],
   "source": [
    "len(feature_importance)"
   ]
  },
  {
   "cell_type": "code",
   "execution_count": 88,
   "id": "65575864",
   "metadata": {},
   "outputs": [
    {
     "name": "stdout",
     "output_type": "stream",
     "text": [
      "Feature Importance: [0.03303356 0.01667777 0.01688481 0.01752491 0.01830375 0.01910771\n",
      " 0.01936323 0.01821769 0.01741438 0.03049004 0.01872205 0.03824347\n",
      " 0.02058577 0.01769789 0.0178198  0.03487796 0.02202322 0.0173476\n",
      " 0.01849112 0.01782265 0.03238716 0.03213912 0.01772762 0.02563673\n",
      " 0.02421912 0.02082819 0.02056583 0.03775216 0.08107277 0.01826047\n",
      " 0.01980177 0.01901487 0.0204238  0.01566436 0.01556291 0.01856412\n",
      " 0.03749996 0.03184503 0.03272768 0.01500977 0.0326472 ]\n"
     ]
    }
   ],
   "source": [
    "print(\"Feature Importance:\", feature_importance)"
   ]
  },
  {
   "cell_type": "code",
   "execution_count": 100,
   "id": "791cd3ec",
   "metadata": {},
   "outputs": [
    {
     "data": {
      "text/plain": [
       "41"
      ]
     },
     "execution_count": 100,
     "metadata": {},
     "output_type": "execute_result"
    }
   ],
   "source": [
    "len(feature_importance)"
   ]
  },
  {
   "cell_type": "code",
   "execution_count": 99,
   "id": "38e60395",
   "metadata": {},
   "outputs": [
    {
     "data": {
      "text/plain": [
       "41"
      ]
     },
     "execution_count": 99,
     "metadata": {},
     "output_type": "execute_result"
    }
   ],
   "source": [
    "len(data.drop([\"Unnamed: 0\", \"SepsisLabel\", \"Patient_ID\", \"SepsisLabel\"], axis = 1).columns)"
   ]
  },
  {
   "cell_type": "code",
   "execution_count": 97,
   "id": "4c082e09",
   "metadata": {},
   "outputs": [],
   "source": [
    "importances = dict(zip(data.drop([\"Unnamed: 0\", \"SepsisLabel\", \"Patient_ID\", \"SepsisLabel\"], axis = 1).columns.tolist(), feature_importance.tolist()))"
   ]
  },
  {
   "cell_type": "code",
   "execution_count": 101,
   "id": "9ab63055",
   "metadata": {},
   "outputs": [
    {
     "data": {
      "text/plain": [
       "{'Hour': 0.03303355723619461,\n",
       " 'HR': 0.016677772626280785,\n",
       " 'O2Sat': 0.016884811222553253,\n",
       " 'Temp': 0.01752491481602192,\n",
       " 'SBP': 0.018303746357560158,\n",
       " 'MAP': 0.01910771243274212,\n",
       " 'DBP': 0.019363228231668472,\n",
       " 'Resp': 0.01821768656373024,\n",
       " 'EtCO2': 0.017414379864931107,\n",
       " 'BaseExcess': 0.030490035191178322,\n",
       " 'HCO3': 0.01872205175459385,\n",
       " 'FiO2': 0.03824346885085106,\n",
       " 'pH': 0.020585766062140465,\n",
       " 'PaCO2': 0.01769789308309555,\n",
       " 'SaO2': 0.01781979762017727,\n",
       " 'AST': 0.034877959638834,\n",
       " 'BUN': 0.022023215889930725,\n",
       " 'Alkalinephos': 0.01734759844839573,\n",
       " 'Calcium': 0.018491122871637344,\n",
       " 'Chloride': 0.017822647467255592,\n",
       " 'Creatinine': 0.032387156039476395,\n",
       " 'Bilirubin_direct': 0.032139118760824203,\n",
       " 'Glucose': 0.017727622762322426,\n",
       " 'Lactate': 0.025636734440922737,\n",
       " 'Magnesium': 0.024219123646616936,\n",
       " 'Phosphate': 0.020828189328312874,\n",
       " 'Potassium': 0.020565833896398544,\n",
       " 'Bilirubin_total': 0.03775215521454811,\n",
       " 'TroponinI': 0.08107277005910873,\n",
       " 'Hct': 0.018260465934872627,\n",
       " 'Hgb': 0.01980176568031311,\n",
       " 'PTT': 0.01901487074792385,\n",
       " 'WBC': 0.020423803478479385,\n",
       " 'Fibrinogen': 0.015664363279938698,\n",
       " 'Platelets': 0.01556290965527296,\n",
       " 'Age': 0.018564119935035706,\n",
       " 'Gender': 0.03749995678663254,\n",
       " 'Unit1': 0.03184502571821213,\n",
       " 'Unit2': 0.0327276773750782,\n",
       " 'HospAdmTime': 0.015009766444563866,\n",
       " 'ICULOS': 0.03264720365405083}"
      ]
     },
     "execution_count": 101,
     "metadata": {},
     "output_type": "execute_result"
    }
   ],
   "source": [
    "importances"
   ]
  },
  {
   "cell_type": "code",
   "execution_count": 102,
   "id": "aad6ad63",
   "metadata": {},
   "outputs": [
    {
     "name": "stdout",
     "output_type": "stream",
     "text": [
      "['TroponinI', 'FiO2', 'Bilirubin_total', 'Gender', 'AST', 'Hour', 'Unit2', 'ICULOS', 'Creatinine', 'Bilirubin_direct']\n"
     ]
    }
   ],
   "source": [
    "sorted_items = sorted(importances.items(), key=lambda x: x[1], reverse=True)[:10]\n",
    "\n",
    "# Extract the keys from the sorted items\n",
    "keys = [key for key, value in sorted_items]\n",
    "\n",
    "# Print the keys\n",
    "print(keys)"
   ]
  },
  {
   "cell_type": "markdown",
   "id": "377f23c7",
   "metadata": {},
   "source": [
    "Elevated troponin in sepsis"
   ]
  },
  {
   "cell_type": "markdown",
   "id": "5a45eacb",
   "metadata": {},
   "source": [
    "https://pubmed.ncbi.nlm.nih.gov/19585902/"
   ]
  }
 ],
 "metadata": {
  "kernelspec": {
   "display_name": "Python 3 (ipykernel)",
   "language": "python",
   "name": "python3"
  },
  "language_info": {
   "codemirror_mode": {
    "name": "ipython",
    "version": 3
   },
   "file_extension": ".py",
   "mimetype": "text/x-python",
   "name": "python",
   "nbconvert_exporter": "python",
   "pygments_lexer": "ipython3",
   "version": "3.11.3"
  }
 },
 "nbformat": 4,
 "nbformat_minor": 5
}
